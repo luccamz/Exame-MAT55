{
  "cells": [
    {
      "cell_type": "markdown",
      "metadata": {
        "id": "S4jXxYDrlAe5"
      },
      "source": [
        "# Classificação por Mínimos Quadrados"
      ]
    },
    {
      "cell_type": "markdown",
      "metadata": {
        "id": "XmhCNvPUsR5p"
      },
      "source": [
        "## Instalação de dependências\n"
      ]
    },
    {
      "cell_type": "markdown",
      "metadata": {
        "id": "jKwrzEQfNgOR"
      },
      "source": [
        "Execute a célula abaixo para instalar dependências. Não é necessário re-executar no mesmo runtime."
      ]
    },
    {
      "cell_type": "code",
      "execution_count": 1,
      "metadata": {
        "colab": {
          "base_uri": "https://localhost:8080/"
        },
        "id": "rP5ChNvRMBz7",
        "outputId": "b87e4f0d-08ae-47ca-8d0a-8ed76d71fe13"
      },
      "outputs": [
        {
          "name": "stderr",
          "output_type": "stream",
          "text": [
            "\u001b[32m\u001b[1m   Resolving\u001b[22m\u001b[39m package versions...\n"
          ]
        },
        {
          "name": "stderr",
          "output_type": "stream",
          "text": [
            "\u001b[32m\u001b[1m  No Changes\u001b[22m\u001b[39m to `~/.julia/environments/v1.9/Project.toml`\n",
            "\u001b[32m\u001b[1m  No Changes\u001b[22m\u001b[39m to `~/.julia/environments/v1.9/Manifest.toml`\n"
          ]
        }
      ],
      "source": [
        "using Pkg\n",
        "Pkg.add([\"CSV\", \"DataFrames\", \"CategoricalArrays\", \"DataFrameMacros\", \"LsqFit\"])"
      ]
    },
    {
      "cell_type": "markdown",
      "metadata": {
        "id": "NFBBUYclNyDu"
      },
      "source": [
        "## Bibliotecas"
      ]
    },
    {
      "cell_type": "code",
      "execution_count": 2,
      "metadata": {
        "id": "kQT7DvRu_hiD"
      },
      "outputs": [],
      "source": [
        "using CSV, DataFrames, Random, CategoricalArrays, DataFrameMacros, Statistics, LinearAlgebra\n",
        "import Base: ImmutableDict\n",
        "using Base.Iterators: drop"
      ]
    },
    {
      "cell_type": "markdown",
      "metadata": {
        "id": "AJsS-NSjHfTu"
      },
      "source": [
        "## Leitura e tratamento dos dados anotados"
      ]
    },
    {
      "cell_type": "code",
      "execution_count": 3,
      "metadata": {
        "colab": {
          "base_uri": "https://localhost:8080/",
          "height": 314
        },
        "id": "ElT55rLxsNMX",
        "outputId": "a6f2f6e2-50f4-444b-d96a-c4eb03ce54e3"
      },
      "outputs": [
        {
          "data": {
            "text/html": [
              "<div><div style = \"float: left;\"><span>10×12 DataFrame</span></div><div style = \"clear: both;\"></div></div><div class = \"data-frame\" style = \"overflow-x: scroll;\"><table class = \"data-frame\" style = \"margin-bottom: 6px;\"><thead><tr class = \"header\"><th class = \"rowNumber\" style = \"font-weight: bold; text-align: right;\">Row</th><th style = \"text-align: left;\">PassengerId</th><th style = \"text-align: left;\">Survived</th><th style = \"text-align: left;\">Pclass</th><th style = \"text-align: left;\">Name</th><th style = \"text-align: left;\">Sex</th><th style = \"text-align: left;\">Age</th><th style = \"text-align: left;\">SibSp</th><th style = \"text-align: left;\">Parch</th><th style = \"text-align: left;\">Ticket</th><th style = \"text-align: left;\">Fare</th><th style = \"text-align: left;\">Cabin</th><th style = \"text-align: left;\">Embarked</th></tr><tr class = \"subheader headerLastRow\"><th class = \"rowNumber\" style = \"font-weight: bold; text-align: right;\"></th><th title = \"Int64\" style = \"text-align: left;\">Int64</th><th title = \"Int64\" style = \"text-align: left;\">Int64</th><th title = \"Int64\" style = \"text-align: left;\">Int64</th><th title = \"String\" style = \"text-align: left;\">String</th><th title = \"String7\" style = \"text-align: left;\">String7</th><th title = \"Union{Missing, Float64}\" style = \"text-align: left;\">Float64?</th><th title = \"Int64\" style = \"text-align: left;\">Int64</th><th title = \"Int64\" style = \"text-align: left;\">Int64</th><th title = \"String31\" style = \"text-align: left;\">String31</th><th title = \"Float64\" style = \"text-align: left;\">Float64</th><th title = \"Union{Missing, String15}\" style = \"text-align: left;\">String15?</th><th title = \"Union{Missing, String1}\" style = \"text-align: left;\">String1?</th></tr></thead><tbody><tr><td class = \"rowNumber\" style = \"font-weight: bold; text-align: right;\">1</td><td style = \"text-align: right;\">1</td><td style = \"text-align: right;\">0</td><td style = \"text-align: right;\">3</td><td style = \"text-align: left;\">Braund, Mr. Owen Harris</td><td style = \"text-align: left;\">male</td><td style = \"text-align: right;\">22.0</td><td style = \"text-align: right;\">1</td><td style = \"text-align: right;\">0</td><td style = \"text-align: left;\">A/5 21171</td><td style = \"text-align: right;\">7.25</td><td style = \"font-style: italic; text-align: left;\">missing</td><td style = \"text-align: left;\">S</td></tr><tr><td class = \"rowNumber\" style = \"font-weight: bold; text-align: right;\">2</td><td style = \"text-align: right;\">2</td><td style = \"text-align: right;\">1</td><td style = \"text-align: right;\">1</td><td style = \"text-align: left;\">Cumings, Mrs. John Bradley (Florence Briggs Thayer)</td><td style = \"text-align: left;\">female</td><td style = \"text-align: right;\">38.0</td><td style = \"text-align: right;\">1</td><td style = \"text-align: right;\">0</td><td style = \"text-align: left;\">PC 17599</td><td style = \"text-align: right;\">71.2833</td><td style = \"text-align: left;\">C85</td><td style = \"text-align: left;\">C</td></tr><tr><td class = \"rowNumber\" style = \"font-weight: bold; text-align: right;\">3</td><td style = \"text-align: right;\">3</td><td style = \"text-align: right;\">1</td><td style = \"text-align: right;\">3</td><td style = \"text-align: left;\">Heikkinen, Miss. Laina</td><td style = \"text-align: left;\">female</td><td style = \"text-align: right;\">26.0</td><td style = \"text-align: right;\">0</td><td style = \"text-align: right;\">0</td><td style = \"text-align: left;\">STON/O2. 3101282</td><td style = \"text-align: right;\">7.925</td><td style = \"font-style: italic; text-align: left;\">missing</td><td style = \"text-align: left;\">S</td></tr><tr><td class = \"rowNumber\" style = \"font-weight: bold; text-align: right;\">4</td><td style = \"text-align: right;\">4</td><td style = \"text-align: right;\">1</td><td style = \"text-align: right;\">1</td><td style = \"text-align: left;\">Futrelle, Mrs. Jacques Heath (Lily May Peel)</td><td style = \"text-align: left;\">female</td><td style = \"text-align: right;\">35.0</td><td style = \"text-align: right;\">1</td><td style = \"text-align: right;\">0</td><td style = \"text-align: left;\">113803</td><td style = \"text-align: right;\">53.1</td><td style = \"text-align: left;\">C123</td><td style = \"text-align: left;\">S</td></tr><tr><td class = \"rowNumber\" style = \"font-weight: bold; text-align: right;\">5</td><td style = \"text-align: right;\">5</td><td style = \"text-align: right;\">0</td><td style = \"text-align: right;\">3</td><td style = \"text-align: left;\">Allen, Mr. William Henry</td><td style = \"text-align: left;\">male</td><td style = \"text-align: right;\">35.0</td><td style = \"text-align: right;\">0</td><td style = \"text-align: right;\">0</td><td style = \"text-align: left;\">373450</td><td style = \"text-align: right;\">8.05</td><td style = \"font-style: italic; text-align: left;\">missing</td><td style = \"text-align: left;\">S</td></tr><tr><td class = \"rowNumber\" style = \"font-weight: bold; text-align: right;\">6</td><td style = \"text-align: right;\">6</td><td style = \"text-align: right;\">0</td><td style = \"text-align: right;\">3</td><td style = \"text-align: left;\">Moran, Mr. James</td><td style = \"text-align: left;\">male</td><td style = \"font-style: italic; text-align: right;\">missing</td><td style = \"text-align: right;\">0</td><td style = \"text-align: right;\">0</td><td style = \"text-align: left;\">330877</td><td style = \"text-align: right;\">8.4583</td><td style = \"font-style: italic; text-align: left;\">missing</td><td style = \"text-align: left;\">Q</td></tr><tr><td class = \"rowNumber\" style = \"font-weight: bold; text-align: right;\">7</td><td style = \"text-align: right;\">7</td><td style = \"text-align: right;\">0</td><td style = \"text-align: right;\">1</td><td style = \"text-align: left;\">McCarthy, Mr. Timothy J</td><td style = \"text-align: left;\">male</td><td style = \"text-align: right;\">54.0</td><td style = \"text-align: right;\">0</td><td style = \"text-align: right;\">0</td><td style = \"text-align: left;\">17463</td><td style = \"text-align: right;\">51.8625</td><td style = \"text-align: left;\">E46</td><td style = \"text-align: left;\">S</td></tr><tr><td class = \"rowNumber\" style = \"font-weight: bold; text-align: right;\">8</td><td style = \"text-align: right;\">8</td><td style = \"text-align: right;\">0</td><td style = \"text-align: right;\">3</td><td style = \"text-align: left;\">Palsson, Master. Gosta Leonard</td><td style = \"text-align: left;\">male</td><td style = \"text-align: right;\">2.0</td><td style = \"text-align: right;\">3</td><td style = \"text-align: right;\">1</td><td style = \"text-align: left;\">349909</td><td style = \"text-align: right;\">21.075</td><td style = \"font-style: italic; text-align: left;\">missing</td><td style = \"text-align: left;\">S</td></tr><tr><td class = \"rowNumber\" style = \"font-weight: bold; text-align: right;\">9</td><td style = \"text-align: right;\">9</td><td style = \"text-align: right;\">1</td><td style = \"text-align: right;\">3</td><td style = \"text-align: left;\">Johnson, Mrs. Oscar W (Elisabeth Vilhelmina Berg)</td><td style = \"text-align: left;\">female</td><td style = \"text-align: right;\">27.0</td><td style = \"text-align: right;\">0</td><td style = \"text-align: right;\">2</td><td style = \"text-align: left;\">347742</td><td style = \"text-align: right;\">11.1333</td><td style = \"font-style: italic; text-align: left;\">missing</td><td style = \"text-align: left;\">S</td></tr><tr><td class = \"rowNumber\" style = \"font-weight: bold; text-align: right;\">10</td><td style = \"text-align: right;\">10</td><td style = \"text-align: right;\">1</td><td style = \"text-align: right;\">2</td><td style = \"text-align: left;\">Nasser, Mrs. Nicholas (Adele Achem)</td><td style = \"text-align: left;\">female</td><td style = \"text-align: right;\">14.0</td><td style = \"text-align: right;\">1</td><td style = \"text-align: right;\">0</td><td style = \"text-align: left;\">237736</td><td style = \"text-align: right;\">30.0708</td><td style = \"font-style: italic; text-align: left;\">missing</td><td style = \"text-align: left;\">C</td></tr></tbody></table></div>"
            ],
            "text/latex": [
              "\\begin{tabular}{r|ccccc}\n",
              "\t& PassengerId & Survived & Pclass & Name & \\\\\n",
              "\t\\hline\n",
              "\t& Int64 & Int64 & Int64 & String & \\\\\n",
              "\t\\hline\n",
              "\t1 & 1 & 0 & 3 & Braund, Mr. Owen Harris & $\\dots$ \\\\\n",
              "\t2 & 2 & 1 & 1 & Cumings, Mrs. John Bradley (Florence Briggs Thayer) & $\\dots$ \\\\\n",
              "\t3 & 3 & 1 & 3 & Heikkinen, Miss. Laina & $\\dots$ \\\\\n",
              "\t4 & 4 & 1 & 1 & Futrelle, Mrs. Jacques Heath (Lily May Peel) & $\\dots$ \\\\\n",
              "\t5 & 5 & 0 & 3 & Allen, Mr. William Henry & $\\dots$ \\\\\n",
              "\t6 & 6 & 0 & 3 & Moran, Mr. James & $\\dots$ \\\\\n",
              "\t7 & 7 & 0 & 1 & McCarthy, Mr. Timothy J & $\\dots$ \\\\\n",
              "\t8 & 8 & 0 & 3 & Palsson, Master. Gosta Leonard & $\\dots$ \\\\\n",
              "\t9 & 9 & 1 & 3 & Johnson, Mrs. Oscar W (Elisabeth Vilhelmina Berg) & $\\dots$ \\\\\n",
              "\t10 & 10 & 1 & 2 & Nasser, Mrs. Nicholas (Adele Achem) & $\\dots$ \\\\\n",
              "\\end{tabular}\n"
            ],
            "text/plain": [
              "\u001b[1m10×12 DataFrame\u001b[0m\n",
              "\u001b[1m Row \u001b[0m│\u001b[1m PassengerId \u001b[0m\u001b[1m Survived \u001b[0m\u001b[1m Pclass \u001b[0m\u001b[1m Name                              \u001b[0m\u001b[1m Sex  \u001b[0m ⋯\n",
              "     │\u001b[90m Int64       \u001b[0m\u001b[90m Int64    \u001b[0m\u001b[90m Int64  \u001b[0m\u001b[90m String                            \u001b[0m\u001b[90m Strin\u001b[0m ⋯\n",
              "─────┼──────────────────────────────────────────────────────────────────────────\n",
              "   1 │           1         0       3  Braund, Mr. Owen Harris            male  ⋯\n",
              "   2 │           2         1       1  Cumings, Mrs. John Bradley (Flor…  femal\n",
              "   3 │           3         1       3  Heikkinen, Miss. Laina             femal\n",
              "   4 │           4         1       1  Futrelle, Mrs. Jacques Heath (Li…  femal\n",
              "   5 │           5         0       3  Allen, Mr. William Henry           male  ⋯\n",
              "   6 │           6         0       3  Moran, Mr. James                   male\n",
              "   7 │           7         0       1  McCarthy, Mr. Timothy J            male\n",
              "   8 │           8         0       3  Palsson, Master. Gosta Leonard     male\n",
              "   9 │           9         1       3  Johnson, Mrs. Oscar W (Elisabeth…  femal ⋯\n",
              "  10 │          10         1       2  Nasser, Mrs. Nicholas (Adele Ach…  femal\n",
              "\u001b[36m                                                               8 columns omitted\u001b[0m"
            ]
          },
          "metadata": {},
          "output_type": "display_data"
        }
      ],
      "source": [
        "train = DataFrame(CSV.File(\"train.csv\"));\n",
        "train[1:10,:]"
      ]
    },
    {
      "cell_type": "markdown",
      "metadata": {
        "id": "4Om2AT2oHum8"
      },
      "source": [
        "Aqui, descartamos colunas com informações individuais que ou provavelmente têm pouca correlação com o resultado da previsão ou trazem informações redundantes"
      ]
    },
    {
      "cell_type": "code",
      "execution_count": 4,
      "metadata": {
        "id": "yzAE12fBrfZ8"
      },
      "outputs": [],
      "source": [
        "Ids = select(train, :PassengerId)\n",
        "discarded_cols = [\"PassengerId\", \"Name\", \"Ticket\", \"Cabin\"]\n",
        "for d in discarded_cols\n",
        "  select!(train, Not(d))\n",
        "end"
      ]
    },
    {
      "cell_type": "markdown",
      "metadata": {
        "id": "0oNp7tzXXlNc"
      },
      "source": [
        "Arrendondamos as idades que vêm fracionarias por algum motivo"
      ]
    },
    {
      "cell_type": "code",
      "execution_count": 5,
      "metadata": {
        "id": "L-T_bPfKXejG"
      },
      "outputs": [],
      "source": [
        "train.Age = round.(Union{Missing, Int}, train.Age);"
      ]
    },
    {
      "cell_type": "code",
      "execution_count": 6,
      "metadata": {
        "colab": {
          "base_uri": "https://localhost:8080/",
          "height": 314
        },
        "id": "wf7qG7jrtA32",
        "outputId": "76ac5ce3-a3b3-42ab-b5a7-ddd0769864f9"
      },
      "outputs": [
        {
          "data": {
            "text/html": [
              "<div><div style = \"float: left;\"><span>10×8 DataFrame</span></div><div style = \"clear: both;\"></div></div><div class = \"data-frame\" style = \"overflow-x: scroll;\"><table class = \"data-frame\" style = \"margin-bottom: 6px;\"><thead><tr class = \"header\"><th class = \"rowNumber\" style = \"font-weight: bold; text-align: right;\">Row</th><th style = \"text-align: left;\">Survived</th><th style = \"text-align: left;\">Pclass</th><th style = \"text-align: left;\">Sex</th><th style = \"text-align: left;\">Age</th><th style = \"text-align: left;\">SibSp</th><th style = \"text-align: left;\">Parch</th><th style = \"text-align: left;\">Fare</th><th style = \"text-align: left;\">Embarked</th></tr><tr class = \"subheader headerLastRow\"><th class = \"rowNumber\" style = \"font-weight: bold; text-align: right;\"></th><th title = \"Int64\" style = \"text-align: left;\">Int64</th><th title = \"Int64\" style = \"text-align: left;\">Int64</th><th title = \"String7\" style = \"text-align: left;\">String7</th><th title = \"Union{Missing, Int64}\" style = \"text-align: left;\">Int64?</th><th title = \"Int64\" style = \"text-align: left;\">Int64</th><th title = \"Int64\" style = \"text-align: left;\">Int64</th><th title = \"Float64\" style = \"text-align: left;\">Float64</th><th title = \"Union{Missing, String1}\" style = \"text-align: left;\">String1?</th></tr></thead><tbody><tr><td class = \"rowNumber\" style = \"font-weight: bold; text-align: right;\">1</td><td style = \"text-align: right;\">0</td><td style = \"text-align: right;\">3</td><td style = \"text-align: left;\">male</td><td style = \"text-align: right;\">22</td><td style = \"text-align: right;\">1</td><td style = \"text-align: right;\">0</td><td style = \"text-align: right;\">7.25</td><td style = \"text-align: left;\">S</td></tr><tr><td class = \"rowNumber\" style = \"font-weight: bold; text-align: right;\">2</td><td style = \"text-align: right;\">1</td><td style = \"text-align: right;\">1</td><td style = \"text-align: left;\">female</td><td style = \"text-align: right;\">38</td><td style = \"text-align: right;\">1</td><td style = \"text-align: right;\">0</td><td style = \"text-align: right;\">71.2833</td><td style = \"text-align: left;\">C</td></tr><tr><td class = \"rowNumber\" style = \"font-weight: bold; text-align: right;\">3</td><td style = \"text-align: right;\">1</td><td style = \"text-align: right;\">3</td><td style = \"text-align: left;\">female</td><td style = \"text-align: right;\">26</td><td style = \"text-align: right;\">0</td><td style = \"text-align: right;\">0</td><td style = \"text-align: right;\">7.925</td><td style = \"text-align: left;\">S</td></tr><tr><td class = \"rowNumber\" style = \"font-weight: bold; text-align: right;\">4</td><td style = \"text-align: right;\">1</td><td style = \"text-align: right;\">1</td><td style = \"text-align: left;\">female</td><td style = \"text-align: right;\">35</td><td style = \"text-align: right;\">1</td><td style = \"text-align: right;\">0</td><td style = \"text-align: right;\">53.1</td><td style = \"text-align: left;\">S</td></tr><tr><td class = \"rowNumber\" style = \"font-weight: bold; text-align: right;\">5</td><td style = \"text-align: right;\">0</td><td style = \"text-align: right;\">3</td><td style = \"text-align: left;\">male</td><td style = \"text-align: right;\">35</td><td style = \"text-align: right;\">0</td><td style = \"text-align: right;\">0</td><td style = \"text-align: right;\">8.05</td><td style = \"text-align: left;\">S</td></tr><tr><td class = \"rowNumber\" style = \"font-weight: bold; text-align: right;\">6</td><td style = \"text-align: right;\">0</td><td style = \"text-align: right;\">3</td><td style = \"text-align: left;\">male</td><td style = \"font-style: italic; text-align: right;\">missing</td><td style = \"text-align: right;\">0</td><td style = \"text-align: right;\">0</td><td style = \"text-align: right;\">8.4583</td><td style = \"text-align: left;\">Q</td></tr><tr><td class = \"rowNumber\" style = \"font-weight: bold; text-align: right;\">7</td><td style = \"text-align: right;\">0</td><td style = \"text-align: right;\">1</td><td style = \"text-align: left;\">male</td><td style = \"text-align: right;\">54</td><td style = \"text-align: right;\">0</td><td style = \"text-align: right;\">0</td><td style = \"text-align: right;\">51.8625</td><td style = \"text-align: left;\">S</td></tr><tr><td class = \"rowNumber\" style = \"font-weight: bold; text-align: right;\">8</td><td style = \"text-align: right;\">0</td><td style = \"text-align: right;\">3</td><td style = \"text-align: left;\">male</td><td style = \"text-align: right;\">2</td><td style = \"text-align: right;\">3</td><td style = \"text-align: right;\">1</td><td style = \"text-align: right;\">21.075</td><td style = \"text-align: left;\">S</td></tr><tr><td class = \"rowNumber\" style = \"font-weight: bold; text-align: right;\">9</td><td style = \"text-align: right;\">1</td><td style = \"text-align: right;\">3</td><td style = \"text-align: left;\">female</td><td style = \"text-align: right;\">27</td><td style = \"text-align: right;\">0</td><td style = \"text-align: right;\">2</td><td style = \"text-align: right;\">11.1333</td><td style = \"text-align: left;\">S</td></tr><tr><td class = \"rowNumber\" style = \"font-weight: bold; text-align: right;\">10</td><td style = \"text-align: right;\">1</td><td style = \"text-align: right;\">2</td><td style = \"text-align: left;\">female</td><td style = \"text-align: right;\">14</td><td style = \"text-align: right;\">1</td><td style = \"text-align: right;\">0</td><td style = \"text-align: right;\">30.0708</td><td style = \"text-align: left;\">C</td></tr></tbody></table></div>"
            ],
            "text/latex": [
              "\\begin{tabular}{r|cccccccc}\n",
              "\t& Survived & Pclass & Sex & Age & SibSp & Parch & Fare & Embarked\\\\\n",
              "\t\\hline\n",
              "\t& Int64 & Int64 & String7 & Int64? & Int64 & Int64 & Float64 & String1?\\\\\n",
              "\t\\hline\n",
              "\t1 & 0 & 3 & male & 22 & 1 & 0 & 7.25 & S \\\\\n",
              "\t2 & 1 & 1 & female & 38 & 1 & 0 & 71.2833 & C \\\\\n",
              "\t3 & 1 & 3 & female & 26 & 0 & 0 & 7.925 & S \\\\\n",
              "\t4 & 1 & 1 & female & 35 & 1 & 0 & 53.1 & S \\\\\n",
              "\t5 & 0 & 3 & male & 35 & 0 & 0 & 8.05 & S \\\\\n",
              "\t6 & 0 & 3 & male & \\emph{missing} & 0 & 0 & 8.4583 & Q \\\\\n",
              "\t7 & 0 & 1 & male & 54 & 0 & 0 & 51.8625 & S \\\\\n",
              "\t8 & 0 & 3 & male & 2 & 3 & 1 & 21.075 & S \\\\\n",
              "\t9 & 1 & 3 & female & 27 & 0 & 2 & 11.1333 & S \\\\\n",
              "\t10 & 1 & 2 & female & 14 & 1 & 0 & 30.0708 & C \\\\\n",
              "\\end{tabular}\n"
            ],
            "text/plain": [
              "\u001b[1m10×8 DataFrame\u001b[0m\n",
              "\u001b[1m Row \u001b[0m│\u001b[1m Survived \u001b[0m\u001b[1m Pclass \u001b[0m\u001b[1m Sex     \u001b[0m\u001b[1m Age     \u001b[0m\u001b[1m SibSp \u001b[0m\u001b[1m Parch \u001b[0m\u001b[1m Fare    \u001b[0m\u001b[1m Embarked \u001b[0m\n",
              "     │\u001b[90m Int64    \u001b[0m\u001b[90m Int64  \u001b[0m\u001b[90m String7 \u001b[0m\u001b[90m Int64?  \u001b[0m\u001b[90m Int64 \u001b[0m\u001b[90m Int64 \u001b[0m\u001b[90m Float64 \u001b[0m\u001b[90m String1? \u001b[0m\n",
              "─────┼─────────────────────────────────────────────────────────────────────\n",
              "   1 │        0       3  male          22      1      0   7.25    S\n",
              "   2 │        1       1  female        38      1      0  71.2833  C\n",
              "   3 │        1       3  female        26      0      0   7.925   S\n",
              "   4 │        1       1  female        35      1      0  53.1     S\n",
              "   5 │        0       3  male          35      0      0   8.05    S\n",
              "   6 │        0       3  male    \u001b[90m missing \u001b[0m     0      0   8.4583  Q\n",
              "   7 │        0       1  male          54      0      0  51.8625  S\n",
              "   8 │        0       3  male           2      3      1  21.075   S\n",
              "   9 │        1       3  female        27      0      2  11.1333  S\n",
              "  10 │        1       2  female        14      1      0  30.0708  C"
            ]
          },
          "metadata": {},
          "output_type": "display_data"
        }
      ],
      "source": [
        "train[1:10,:]"
      ]
    },
    {
      "cell_type": "markdown",
      "metadata": {
        "id": "qrTPAgMtIJqa"
      },
      "source": [
        "Nessa etapa, codificamos as variáveis não-numéricas através da atribuição de ordinais a cada valor único encontrado, e guardamos o codificador para que esse processo seja reprodutível no conjunto de testes.\n",
        "\n",
        "Além disso, substituem-se os valores ausentes pela média dos valores conhecidos."
      ]
    },
    {
      "cell_type": "code",
      "execution_count": 7,
      "metadata": {
        "colab": {
          "base_uri": "https://localhost:8080/"
        },
        "id": "tEG76JEXwp7q",
        "outputId": "ad6d30e1-9534-443b-c8d4-7590de04d261"
      },
      "outputs": [
        {
          "data": {
            "text/plain": [
              "encode_and_fill! (generic function with 1 method)"
            ]
          },
          "metadata": {},
          "output_type": "display_data"
        }
      ],
      "source": [
        "# Tipo do codificador\n",
        "struct Encoder\n",
        "  mappings::Dict{Union{Missing, String}, Dict{String, Int64}}\n",
        "end\n",
        "\n",
        "# Geração da função codificadora\n",
        "function generate_encoder(data::DataFrame, cat_vars::Vector{String})\n",
        "  encoder = Encoder(Dict())\n",
        "  for cat in cat_vars\n",
        "    lvls = levels(categorical(train[!, cat]))\n",
        "    map = Dict()\n",
        "    for (i, lvl) in enumerate(lvls)\n",
        "      push!(map, lvl => i - 1)\n",
        "    end\n",
        "    push!(encoder.mappings, cat => map)\n",
        "  end\n",
        "  return encoder\n",
        "end\n",
        "\n",
        "# Codificação e tratamento dos valores faltantes\n",
        "function encode_and_fill!(data::DataFrame, cat_vars::Vector{String}; encoder::Union{Missing, Encoder} = missing)\n",
        "  if ismissing(encoder)\n",
        "    encoder = generate_encoder(data, cat_vars)\n",
        "  end\n",
        "  for k in keys(encoder.mappings)\n",
        "    data[!, k] = map(passmissing(s -> encoder.mappings[k][s]), data[!, k])\n",
        "  end\n",
        "  for k in eachcol(data)\n",
        "    replacement = mean(skipmissing(k))\n",
        "    replacement = nonmissingtype(eltype(k)) == Int ? round(replacement) : replacement\n",
        "    replace!(k, missing => replacement)\n",
        "  end\n",
        "  disallowmissing!(data)\n",
        "  return encoder\n",
        "end\n"
      ]
    },
    {
      "cell_type": "code",
      "execution_count": 8,
      "metadata": {
        "id": "Xv0He_bNpdeA"
      },
      "outputs": [],
      "source": [
        "encoder = encode_and_fill!(train, [\"Sex\", \"Embarked\"]);"
      ]
    },
    {
      "cell_type": "code",
      "execution_count": 9,
      "metadata": {
        "colab": {
          "base_uri": "https://localhost:8080/",
          "height": 314
        },
        "id": "ZL8V_dLsGUiS",
        "outputId": "813494a9-23f7-475d-a7c8-e4adba266b00"
      },
      "outputs": [
        {
          "data": {
            "text/html": [
              "<div><div style = \"float: left;\"><span>10×8 DataFrame</span></div><div style = \"clear: both;\"></div></div><div class = \"data-frame\" style = \"overflow-x: scroll;\"><table class = \"data-frame\" style = \"margin-bottom: 6px;\"><thead><tr class = \"header\"><th class = \"rowNumber\" style = \"font-weight: bold; text-align: right;\">Row</th><th style = \"text-align: left;\">Survived</th><th style = \"text-align: left;\">Pclass</th><th style = \"text-align: left;\">Sex</th><th style = \"text-align: left;\">Age</th><th style = \"text-align: left;\">SibSp</th><th style = \"text-align: left;\">Parch</th><th style = \"text-align: left;\">Fare</th><th style = \"text-align: left;\">Embarked</th></tr><tr class = \"subheader headerLastRow\"><th class = \"rowNumber\" style = \"font-weight: bold; text-align: right;\"></th><th title = \"Int64\" style = \"text-align: left;\">Int64</th><th title = \"Int64\" style = \"text-align: left;\">Int64</th><th title = \"Int64\" style = \"text-align: left;\">Int64</th><th title = \"Int64\" style = \"text-align: left;\">Int64</th><th title = \"Int64\" style = \"text-align: left;\">Int64</th><th title = \"Int64\" style = \"text-align: left;\">Int64</th><th title = \"Float64\" style = \"text-align: left;\">Float64</th><th title = \"Int64\" style = \"text-align: left;\">Int64</th></tr></thead><tbody><tr><td class = \"rowNumber\" style = \"font-weight: bold; text-align: right;\">1</td><td style = \"text-align: right;\">0</td><td style = \"text-align: right;\">3</td><td style = \"text-align: right;\">1</td><td style = \"text-align: right;\">22</td><td style = \"text-align: right;\">1</td><td style = \"text-align: right;\">0</td><td style = \"text-align: right;\">7.25</td><td style = \"text-align: right;\">2</td></tr><tr><td class = \"rowNumber\" style = \"font-weight: bold; text-align: right;\">2</td><td style = \"text-align: right;\">1</td><td style = \"text-align: right;\">1</td><td style = \"text-align: right;\">0</td><td style = \"text-align: right;\">38</td><td style = \"text-align: right;\">1</td><td style = \"text-align: right;\">0</td><td style = \"text-align: right;\">71.2833</td><td style = \"text-align: right;\">0</td></tr><tr><td class = \"rowNumber\" style = \"font-weight: bold; text-align: right;\">3</td><td style = \"text-align: right;\">1</td><td style = \"text-align: right;\">3</td><td style = \"text-align: right;\">0</td><td style = \"text-align: right;\">26</td><td style = \"text-align: right;\">0</td><td style = \"text-align: right;\">0</td><td style = \"text-align: right;\">7.925</td><td style = \"text-align: right;\">2</td></tr><tr><td class = \"rowNumber\" style = \"font-weight: bold; text-align: right;\">4</td><td style = \"text-align: right;\">1</td><td style = \"text-align: right;\">1</td><td style = \"text-align: right;\">0</td><td style = \"text-align: right;\">35</td><td style = \"text-align: right;\">1</td><td style = \"text-align: right;\">0</td><td style = \"text-align: right;\">53.1</td><td style = \"text-align: right;\">2</td></tr><tr><td class = \"rowNumber\" style = \"font-weight: bold; text-align: right;\">5</td><td style = \"text-align: right;\">0</td><td style = \"text-align: right;\">3</td><td style = \"text-align: right;\">1</td><td style = \"text-align: right;\">35</td><td style = \"text-align: right;\">0</td><td style = \"text-align: right;\">0</td><td style = \"text-align: right;\">8.05</td><td style = \"text-align: right;\">2</td></tr><tr><td class = \"rowNumber\" style = \"font-weight: bold; text-align: right;\">6</td><td style = \"text-align: right;\">0</td><td style = \"text-align: right;\">3</td><td style = \"text-align: right;\">1</td><td style = \"text-align: right;\">30</td><td style = \"text-align: right;\">0</td><td style = \"text-align: right;\">0</td><td style = \"text-align: right;\">8.4583</td><td style = \"text-align: right;\">1</td></tr><tr><td class = \"rowNumber\" style = \"font-weight: bold; text-align: right;\">7</td><td style = \"text-align: right;\">0</td><td style = \"text-align: right;\">1</td><td style = \"text-align: right;\">1</td><td style = \"text-align: right;\">54</td><td style = \"text-align: right;\">0</td><td style = \"text-align: right;\">0</td><td style = \"text-align: right;\">51.8625</td><td style = \"text-align: right;\">2</td></tr><tr><td class = \"rowNumber\" style = \"font-weight: bold; text-align: right;\">8</td><td style = \"text-align: right;\">0</td><td style = \"text-align: right;\">3</td><td style = \"text-align: right;\">1</td><td style = \"text-align: right;\">2</td><td style = \"text-align: right;\">3</td><td style = \"text-align: right;\">1</td><td style = \"text-align: right;\">21.075</td><td style = \"text-align: right;\">2</td></tr><tr><td class = \"rowNumber\" style = \"font-weight: bold; text-align: right;\">9</td><td style = \"text-align: right;\">1</td><td style = \"text-align: right;\">3</td><td style = \"text-align: right;\">0</td><td style = \"text-align: right;\">27</td><td style = \"text-align: right;\">0</td><td style = \"text-align: right;\">2</td><td style = \"text-align: right;\">11.1333</td><td style = \"text-align: right;\">2</td></tr><tr><td class = \"rowNumber\" style = \"font-weight: bold; text-align: right;\">10</td><td style = \"text-align: right;\">1</td><td style = \"text-align: right;\">2</td><td style = \"text-align: right;\">0</td><td style = \"text-align: right;\">14</td><td style = \"text-align: right;\">1</td><td style = \"text-align: right;\">0</td><td style = \"text-align: right;\">30.0708</td><td style = \"text-align: right;\">0</td></tr></tbody></table></div>"
            ],
            "text/latex": [
              "\\begin{tabular}{r|cccccccc}\n",
              "\t& Survived & Pclass & Sex & Age & SibSp & Parch & Fare & Embarked\\\\\n",
              "\t\\hline\n",
              "\t& Int64 & Int64 & Int64 & Int64 & Int64 & Int64 & Float64 & Int64\\\\\n",
              "\t\\hline\n",
              "\t1 & 0 & 3 & 1 & 22 & 1 & 0 & 7.25 & 2 \\\\\n",
              "\t2 & 1 & 1 & 0 & 38 & 1 & 0 & 71.2833 & 0 \\\\\n",
              "\t3 & 1 & 3 & 0 & 26 & 0 & 0 & 7.925 & 2 \\\\\n",
              "\t4 & 1 & 1 & 0 & 35 & 1 & 0 & 53.1 & 2 \\\\\n",
              "\t5 & 0 & 3 & 1 & 35 & 0 & 0 & 8.05 & 2 \\\\\n",
              "\t6 & 0 & 3 & 1 & 30 & 0 & 0 & 8.4583 & 1 \\\\\n",
              "\t7 & 0 & 1 & 1 & 54 & 0 & 0 & 51.8625 & 2 \\\\\n",
              "\t8 & 0 & 3 & 1 & 2 & 3 & 1 & 21.075 & 2 \\\\\n",
              "\t9 & 1 & 3 & 0 & 27 & 0 & 2 & 11.1333 & 2 \\\\\n",
              "\t10 & 1 & 2 & 0 & 14 & 1 & 0 & 30.0708 & 0 \\\\\n",
              "\\end{tabular}\n"
            ],
            "text/plain": [
              "\u001b[1m10×8 DataFrame\u001b[0m\n",
              "\u001b[1m Row \u001b[0m│\u001b[1m Survived \u001b[0m\u001b[1m Pclass \u001b[0m\u001b[1m Sex   \u001b[0m\u001b[1m Age   \u001b[0m\u001b[1m SibSp \u001b[0m\u001b[1m Parch \u001b[0m\u001b[1m Fare    \u001b[0m\u001b[1m Embarked \u001b[0m\n",
              "     │\u001b[90m Int64    \u001b[0m\u001b[90m Int64  \u001b[0m\u001b[90m Int64 \u001b[0m\u001b[90m Int64 \u001b[0m\u001b[90m Int64 \u001b[0m\u001b[90m Int64 \u001b[0m\u001b[90m Float64 \u001b[0m\u001b[90m Int64    \u001b[0m\n",
              "─────┼─────────────────────────────────────────────────────────────────\n",
              "   1 │        0       3      1     22      1      0   7.25           2\n",
              "   2 │        1       1      0     38      1      0  71.2833         0\n",
              "   3 │        1       3      0     26      0      0   7.925          2\n",
              "   4 │        1       1      0     35      1      0  53.1            2\n",
              "   5 │        0       3      1     35      0      0   8.05           2\n",
              "   6 │        0       3      1     30      0      0   8.4583         1\n",
              "   7 │        0       1      1     54      0      0  51.8625         2\n",
              "   8 │        0       3      1      2      3      1  21.075          2\n",
              "   9 │        1       3      0     27      0      2  11.1333         2\n",
              "  10 │        1       2      0     14      1      0  30.0708         0"
            ]
          },
          "metadata": {},
          "output_type": "display_data"
        }
      ],
      "source": [
        "train[1:10,:]"
      ]
    },
    {
      "cell_type": "markdown",
      "metadata": {
        "id": "in2qhJhrq_9f"
      },
      "source": [
        "## Modelamento"
      ]
    },
    {
      "cell_type": "markdown",
      "metadata": {
        "id": "DWZUAdtRrqVd"
      },
      "source": [
        "Na fase de modelamento, definimos as funções utilitárias para representar os procedimentos de *feature engineering*, ajuste do modelo e predição das classes por esse modelo ajustado."
      ]
    },
    {
      "cell_type": "markdown",
      "metadata": {
        "id": "GWE7cboHfwgY"
      },
      "source": [
        "Com a função ```solve``` implementa-se a solução do problema de mínimos quadrados $Ax = b$ por meio da pseudoinversa de $A$ definida através de sua decomposição SVD reduzida."
      ]
    },
    {
      "cell_type": "code",
      "execution_count": 10,
      "metadata": {
        "colab": {
          "base_uri": "https://localhost:8080/"
        },
        "id": "DvrTxjJ7Et9t",
        "outputId": "cbcefc70-f0f3-4d1a-b698-f990d1930927"
      },
      "outputs": [
        {
          "data": {
            "text/plain": [
              "solve (generic function with 1 method)"
            ]
          },
          "metadata": {},
          "output_type": "display_data"
        }
      ],
      "source": [
        "function solve(A::Matrix{Float64}, b::Vector{Float64})\n",
        "  F = svd(A)\n",
        "  x = F.V * Diagonal(F.S .^(-1)) * F.U' * b\n",
        "  return x\n",
        "end"
      ]
    },
    {
      "cell_type": "markdown",
      "metadata": {
        "id": "GsfOIl9igEzl"
      },
      "source": [
        "Então, define-se um tipo ```Model``` que contém um dicionário no qual as chaves são os nomes das *features* originais do *DataFrame* e os valores são pares ordenados ($\\theta$, $f: Float64 \\mapsto Float64$) contendo a função $f$ a ser aplicada elemento-a-elemento na *feature* de nome correspondente para se obter uma nova *feature* e $\\theta$, o coeficiente da respectiva nova *feature* na combinação linear realizada pelo modelo quando aplicado para prever a classificação de cada individuo.\n",
        "\n",
        "Além desse dicionário, ```Model``` contém uma função classificadora que mapeia os valores reais quaisquer resultantes da combinação linear das *features* nos valores 0 e 1 que representam as classes. Esse classificador utiliza de um hiper-parâmetro que é obtido durante o ajuste do modelo ao conjunto de dados de treino e então é utilizado pelo classificador como valor limite entre as duas classes."
      ]
    },
    {
      "cell_type": "code",
      "execution_count": 11,
      "metadata": {
        "colab": {
          "base_uri": "https://localhost:8080/"
        },
        "id": "kkWuLwthhira",
        "outputId": "06220ca7-1db5-4fb0-eadf-31a99c3b36b7"
      },
      "outputs": [
        {
          "data": {
            "text/plain": [
              "ImmutableDict"
            ]
          },
          "metadata": {},
          "output_type": "display_data"
        }
      ],
      "source": [
        "const Feature = Pair{Float64, Function}\n",
        "const ImutDict = ImmutableDict{String, Vector{Feature}}\n",
        "ImmutableDict(pairs::Vector{Pair{K, V}}) where {K <: Union{String, Symbol}, V <: Union{Float64, Vector{Feature}}} =\n",
        "  foldl(\n",
        "    (accumulated, pair) -> ImmutableDict(accumulated, pair),\n",
        "    drop(pairs, 1),\n",
        "    init = ImmutableDict(first(pairs))\n",
        "  )"
      ]
    },
    {
      "cell_type": "code",
      "execution_count": 12,
      "metadata": {
        "colab": {
          "base_uri": "https://localhost:8080/"
        },
        "id": "Yt48EKn-jYte",
        "outputId": "c03694ff-d884-4521-a462-9a1fa68ab1bf"
      },
      "outputs": [
        {
          "data": {
            "text/plain": [
              "transform_fit! (generic function with 1 method)"
            ]
          },
          "metadata": {},
          "output_type": "display_data"
        }
      ],
      "source": [
        "# Esse classificador utiliza 'm' como um valor limite entre as duas classes\n",
        "function simple_classifier(x::Float64; α::Float64 = 0.5, kwargs...)\n",
        "  return x < α ? 0 : 1\n",
        "end\n",
        "\n",
        "mutable struct Model\n",
        "  features::ImutDict  # Dicionário que determina como trasformar as colunas originais e quais os coeficientes na combinação linear das colunas transformadas\n",
        "  classifier::Function  # Função que separa os valores de saída da combinação linear entre as duas classes\n",
        "  hyperparams::ImmutableDict{Symbol, Float64} # Hiperparâmetros do classificador\n",
        "end\n",
        "\n",
        "# Esse construtor serve para manter imutável a lista de nomes de colunas do modelo de acordo com o presente no Dataframe data\n",
        "function Model(data::DataFrame; classifier::Function = simple_classifier)\n",
        "  init = Vector{Pair{String, Vector{Feature}}}();\n",
        "  for name in names(data)\n",
        "    push!(init, name => Vector{Feature}());\n",
        "  end\n",
        "  d = ImmutableDict(init);\n",
        "  kwarg = Base.kwarg_decl(methods(classifier)[1], Float64)[1]\n",
        "  hyperparams = ImmutableDict(kwarg => 0.5)\n",
        "  Model(d, classifier, hyperparams)\n",
        "end\n",
        "\n",
        "# Essa função modifica 'model' in-place, inserindo uma função 'f' que transforma a coluna 'name' e inicializando o coeficiente dessa feature com 0\n",
        "function add_feature!(model::Model, name::String, f::Function)\n",
        "  @assert typeof(f(0.0)) == Float64\n",
        "  push!(model.features[name], 0.0 => f)\n",
        "end\n",
        "\n",
        "# Essa função transforma o DataFrame 'data' in-place, descartando suas colunas originais e inserindo as transformadas de acordo com 'model'\n",
        "function transform!(model::Model, data::DataFrame)\n",
        "  for (name, feats) in pairs(model.features)\n",
        "    for (i, feat) in enumerate(feats)\n",
        "      @transform! data name*\"_$i\" = feat.second({name})\n",
        "      m = maximum(map( x -> abs(x), data[!, name*\"_$i\"]))\n",
        "      @assert m != 0\n",
        "      @transform! data name*\"_$i\" = {name*\"_$i\"}/m\n",
        "    end\n",
        "    select!(data, Not(name))\n",
        "  end\n",
        "end\n",
        "\n",
        "# Gera uma predição na forma de Dataframe com base nos coeficientes guardados por 'model' e aplicando sua função classificadora\n",
        "function predict(model::Model, data::DataFrame; y_name::String = \"Survived\")\n",
        "  result = zeros(size(data)[1])\n",
        "  data = Matrix(data)\n",
        "  idx = 1\n",
        "  for feats in values(model.features)\n",
        "    for feat in feats\n",
        "      result += feat.first*data[:, idx]\n",
        "      idx += 1\n",
        "    end\n",
        "  end\n",
        "  classifier = x -> model.classifier(x; model.hyperparams...)\n",
        "  result = classifier.(result)\n",
        "  prediction = DataFrame(y = result)\n",
        "  select!(prediction, :y => y_name)\n",
        "  return prediction\n",
        "end\n",
        "\n",
        "# Transforma as colunas e gera uma predição para 'data'\n",
        "function transform_predict!(model::Model, data::DataFrame; y_name::String = \"Survived\")\n",
        "  transform!(model, data)\n",
        "  return predict(model, data, y_name = y_name)\n",
        "end\n",
        "\n",
        "# Obtém coeficientes para 'model' com base na solução do problema de mínimos quadrados x*θ = y\n",
        "# e calcula o hiperparâmetro 'm' do classificador com base na média simples entre as médias das previsões para cada classe\n",
        "function fit!(model::Model, x::DataFrame, y::DataFrame)\n",
        "  x = Matrix(x)\n",
        "  b = Vector{Float64}(y[!,1])\n",
        "  survived = y[!,1] .== 1.0\n",
        "  params = solve(x, b)\n",
        "  prediction = (x*params)\n",
        "  any_survivors = foldl(|, survived)\n",
        "  any_non_survivors = !foldl(*, survived)\n",
        "  m =  mean([any_survivors ? mean(prediction[survived]) : 0.5,\n",
        "            any_non_survivors ? mean(prediction[.!survived]) : 0.5])\n",
        "  \n",
        "  model.hyperparams = ImmutableDict(:α => m)\n",
        "  idx = 1\n",
        "  for feats in values(model.features)\n",
        "    for (i, feat) in enumerate(feats)\n",
        "      feats[i] = params[idx] => feats[i].second\n",
        "      idx += 1\n",
        "    end\n",
        "  end\n",
        "end\n",
        "\n",
        "# Transforma as colunas de 'x' e realiza o ajuste de 'model' para o problema x*θ = y\n",
        "function transform_fit!(model::Model, x::DataFrame, y::DataFrame)\n",
        "  transform!(model, x)\n",
        "  return fit!(model, x, y)\n",
        "end"
      ]
    },
    {
      "cell_type": "markdown",
      "metadata": {
        "id": "_CKa4sFZmw3n"
      },
      "source": [
        "As funções `XX_features!` e `add_feature_listX!` a seguir adicionam *in-place* conjuntos específicos de funções transformadoras ao modelo, com uma correspondência fixa com cada coluna do DataFrame passado como argumento."
      ]
    },
    {
      "cell_type": "code",
      "execution_count": 13,
      "metadata": {
        "colab": {
          "base_uri": "https://localhost:8080/"
        },
        "id": "Pw72cCxlxUXQ",
        "outputId": "ed4f4069-9bfa-44e9-de6c-abf710739c15"
      },
      "outputs": [
        {
          "data": {
            "text/plain": [
              "alternate_features! (generic function with 1 method)"
            ]
          },
          "metadata": {},
          "output_type": "display_data"
        }
      ],
      "source": [
        "# adiciona funções polinomiais monomiais de grau 1 às features de 'model' até 'max_deg' para todas as colunas de 'data'\n",
        "function polynomial_features!(model::Model, data::DataFrame, max_deg::Int)\n",
        "  for name in names(data)\n",
        "    for i in 1:max_deg\n",
        "      add_feature!(model, name, x -> x^i)\n",
        "    end\n",
        "  end\n",
        "\n",
        "end\n",
        "\n",
        "# adiciona features da forma x -> 1/(|x|+1)^k\n",
        "function rational_features!(model::Model, data::DataFrame, max_deg::Int)\n",
        "  for name in names(data)\n",
        "    for i in 1:max_deg\n",
        "      add_feature!(model, name, x -> (abs(x)+1.0)^-i)\n",
        "    end\n",
        "  end\n",
        "\n",
        "end\n",
        "\n",
        "# adiciona features da forma x -> cos(a*x) e x -> sin(a*x)\n",
        "function trigonometric_features!(model::Model, data::DataFrame, I::UnitRange{Int})\n",
        "  for name in names(data)\n",
        "    for a in I\n",
        "      add_feature!(model, name, x -> cos(a*x))\n",
        "      add_feature!(model, name, x -> sin(a*x))\n",
        "    end\n",
        "  end\n",
        "end\n",
        "\n",
        "# adiciona features da forma x -> exp(-a*x)\n",
        "function exponential_features!(model::Model, data::DataFrame, I::UnitRange{Int})\n",
        "  for name in names(data)\n",
        "    for a in I\n",
        "      add_feature!(model, name, x -> exp(-a*x))\n",
        "    end\n",
        "  end\n",
        "end\n",
        "\n",
        "# alerta de feiura! Aparentemente esse é o jeito mais facil de\n",
        "# instanciar uma função que alterna entre -1 e 1 já que não\n",
        "# há um método de obter o valor atual de um iterador sem especificar\n",
        "# o estado inicial\n",
        "cycle_var = -1\n",
        "function cycler()\n",
        "  global cycle_var = -cycle_var\n",
        "  return cycle_var\n",
        "end\n",
        "\n",
        "# substitui todas as features presentes em 'model' por suas versões com sinais alternados\n",
        "# i.e. faz com que as novas funções transformadoras sejam como as antigas mas multiplicando por -1 em elementos alternados das colunas\n",
        "function alternate_features!(model::Model)\n",
        "  for feats in values(model.features)\n",
        "    for i in 1:length(feats)\n",
        "      f = feats[i].second #essa\n",
        "      feats[i] = feats[i].first => (x -> cycler()*f(x))\n",
        "    end\n",
        "  end\n",
        "end\n"
      ]
    },
    {
      "cell_type": "markdown",
      "metadata": {
        "id": "E0u2hqdRoKsC"
      },
      "source": [
        "Funções que adicionam listas de *features* de uma única vez"
      ]
    },
    {
      "cell_type": "code",
      "execution_count": 14,
      "metadata": {
        "colab": {
          "base_uri": "https://localhost:8080/"
        },
        "id": "GO2N7pZAKepd",
        "outputId": "9659a8ef-0ccd-4d8e-cebd-4929c426ce69"
      },
      "outputs": [
        {
          "data": {
            "text/plain": [
              "add_feature_list5! (generic function with 1 method)"
            ]
          },
          "metadata": {},
          "output_type": "display_data"
        }
      ],
      "source": [
        "function add_feature_list1!(model::Model, data::DataFrame)\n",
        "  polynomial_features!(model, data, 1)\n",
        "end\n",
        "\n",
        "function add_feature_list2!(model::Model, data::DataFrame)\n",
        "  add_feature!(model, \"Sex\", x -> 1.0)\n",
        "  polynomial_features!(model, data, 4)\n",
        "end\n",
        "\n",
        "function add_feature_list3!(model::Model, data::DataFrame)\n",
        "  trigonometric_features!(model, data, 1:1)\n",
        "  exponential_features!(model, data, 1:2)\n",
        "end\n",
        "\n",
        "function add_feature_list4!(model::Model, data::DataFrame)\n",
        "    rational_features!(model, data, 3)\n",
        "end\n",
        "\n",
        "function add_feature_list5!(model::Model, data::DataFrame)\n",
        "  add_feature_list1!(model, data)\n",
        "  alternate_features!(model)\n",
        "  add_feature_list1!(model, data)\n",
        "end\n"
      ]
    },
    {
      "cell_type": "markdown",
      "metadata": {
        "id": "mY_U1cM9sPcp"
      },
      "source": [
        "## Validação\n",
        "\n",
        "Nessa parte, são colocadas as implementações de funções que automatizam o pré-processamento dos dados para testes e avaliam o desempenho de modelos sobre tais dados."
      ]
    },
    {
      "cell_type": "markdown",
      "metadata": {
        "id": "bVcjo0iiI4GY"
      },
      "source": [
        "Para realizar uma forma de validação das previsões feitas pelo modelo, dividimos o conjunto de treino em outro conjunto menor de treino, selecionado aleatoriamente, e um conjunto de validação (testes).\n",
        "\n",
        "A proporção entre os tamanhos de cada conjunto é especificada através da razão entre o tamanho do novo conjunto de treino e o tamanho do conjunto original, então são retornados os conjuntos com os dados das variáveis de previsão e da variável a ser prevista."
      ]
    },
    {
      "cell_type": "code",
      "execution_count": 15,
      "metadata": {
        "colab": {
          "base_uri": "https://localhost:8080/"
        },
        "id": "5i9FrYpSjW7i",
        "outputId": "9e1a41e5-3752-4896-d914-c28c895cf8b0"
      },
      "outputs": [
        {
          "data": {
            "text/plain": [
              "train_test_split (generic function with 1 method)"
            ]
          },
          "metadata": {},
          "output_type": "display_data"
        }
      ],
      "source": [
        "function train_test_split(data::DataFrame, train_ratio::Float64; y_col::String = \"Survived\")\n",
        "  @assert 0. <= train_ratio <= 1.\n",
        "  rows = collect(axes(data, 1))\n",
        "  shuffle!(rows)\n",
        "  train_selection = rows .<= size(data)[1]*train_ratio\n",
        "  train_part = DataFrame(data[train_selection, :])\n",
        "  test_part = DataFrame(data[.!train_selection, :])\n",
        "  xtrain = select(train_part, Not(y_col))\n",
        "  ytrain = select(train_part, y_col)\n",
        "  xtest = select(test_part, Not(y_col))\n",
        "  ytest = select(test_part, y_col)\n",
        "  return xtrain, ytrain, xtest, ytest\n",
        "end"
      ]
    },
    {
      "cell_type": "markdown",
      "metadata": {
        "id": "Z7O2ODUloTYk"
      },
      "source": [
        "A métrica de desempenho de um modelo para esse problema de classificação é a acurácia das previsões *i.e.* a taxa de acerto na classificação, então define-se `accuracy_score` para obter essa pontuação com base nos valores previstos por um modelo e nos valores de referência."
      ]
    },
    {
      "cell_type": "code",
      "execution_count": 16,
      "metadata": {
        "colab": {
          "base_uri": "https://localhost:8080/"
        },
        "id": "4HRAdspAJO8L",
        "outputId": "6f1eebfd-b75f-4a4f-ea7b-00adaf183b2b"
      },
      "outputs": [
        {
          "data": {
            "text/plain": [
              "accuracy_score (generic function with 1 method)"
            ]
          },
          "metadata": {},
          "output_type": "display_data"
        }
      ],
      "source": [
        "function accuracy_score(y_pred::DataFrame, y_true::DataFrame)\n",
        "  total = size(y_pred)[1]\n",
        "  right = foldl(+, (y_pred .== y_true)[:,1])\n",
        "  return right/total\n",
        "end"
      ]
    },
    {
      "cell_type": "markdown",
      "metadata": {
        "id": "8F6Ue38zomo5"
      },
      "source": [
        "Como deseja-se fazer a classificação sobre os dados de teste posteriormente sem que se tenha qualquer forma de acesso às respostas para esse conjunto, a escolha do modelo em particular dado um certo conjunto de *features* (ou funções transformadoras) é determinada iterativamente através de um método que, inicialmente, divide o conjunto de treino em um subconjunto de treino que é amostrado aleatoriamente do original e outro de validação, então ajusta o modelo a esse subconjunto de treino e mede a acurácia das previsões sobre o conjunto de validação.\n",
        "\n",
        "Esse procedimento se repete em cada iteração e, ao final, é mantido o modelo ajustado ao subconjunto de treino tal que a acurácia sobre o conjunto de validação é a maior obtida."
      ]
    },
    {
      "cell_type": "code",
      "execution_count": 17,
      "metadata": {
        "colab": {
          "base_uri": "https://localhost:8080/"
        },
        "id": "4YBJ6w4NJnCd",
        "outputId": "dfb017f7-26e5-4f12-a536-b8a969048ed8"
      },
      "outputs": [
        {
          "data": {
            "text/plain": [
              "select_best_model! (generic function with 1 method)"
            ]
          },
          "metadata": {},
          "output_type": "display_data"
        }
      ],
      "source": [
        "# obtém o \"melhor modelo\" como descrito acima, com o conjunto de feature especificado por 'feature_adder', ao longo de 'n_its', cada uma na qual\n",
        "# a razão treino:validação é dada por 'train_test_ratio':1-'train_test_ratio'\n",
        "function select_best_model!(model::Model, train::DataFrame; train_test_ratio::Float64 = 0.8, feature_adder::Function = add_feature_list1!, n_its::Int = 50)\n",
        "  xtrain, ytrain, xtest, ytest = train_test_split(train, train_test_ratio)\n",
        "  feature_adder(model, xtrain)\n",
        "  transform_fit!(model, xtrain, ytrain)\n",
        "  pred = transform_predict!(model, xtest)\n",
        "  best_x = xtrain\n",
        "  best_y = ytrain\n",
        "  best_acc = accuracy_score(pred, ytest)\n",
        "  for i in 1:n_its\n",
        "    xtrain, ytrain, xtest, ytest = train_test_split(train, train_test_ratio)\n",
        "    transform_fit!(model, xtrain, ytrain)\n",
        "    pred = transform_predict!(model, xtest)\n",
        "    acc = accuracy_score(pred, ytest)\n",
        "    if acc > best_acc\n",
        "      best_acc = acc\n",
        "      best_x = xtrain\n",
        "      best_y = ytrain\n",
        "    end\n",
        "  end\n",
        "  fit!(model, best_x, best_y)\n",
        "end"
      ]
    },
    {
      "cell_type": "code",
      "execution_count": 18,
      "metadata": {
        "colab": {
          "base_uri": "https://localhost:8080/"
        },
        "id": "4UqLm3vO0bh2",
        "outputId": "63b84901-d4fe-4bc0-ab5b-7485c0e8742c"
      },
      "outputs": [
        {
          "data": {
            "text/plain": [
              "preprocess_and_transform! (generic function with 1 method)"
            ]
          },
          "metadata": {},
          "output_type": "display_data"
        }
      ],
      "source": [
        "# repete o tratamento dos dados realizado sobre o conjunto de treino, mantendo o mesmo 'encoder'\n",
        "function preprocess!(data::DataFrame, encoder::Encoder)\n",
        "  discarded_cols = [\"PassengerId\", \"Name\", \"Ticket\", \"Cabin\"]\n",
        "  for d in discarded_cols\n",
        "    select!(data, Not(d))\n",
        "  end\n",
        "  data.Age = round.(Union{Missing, Int}, data.Age)\n",
        "  encode_and_fill!(data, [\"Sex\", \"Embarked\"], encoder = encoder)\n",
        "end\n",
        "\n",
        "# faz o pré-processamento e a transforma 'test_data' de acordo com a lista de features criada por 'feature_adder'\n",
        "function preprocess_and_transform!(test_data::DataFrame, encoder::Encoder; feature_adder::Function = add_feature_list1!)\n",
        "  preprocess!(test_data, encoder)\n",
        "  model = Model(test_data)\n",
        "  feature_adder(model, test_data)\n",
        "  transform!(model, test_data)\n",
        "end"
      ]
    },
    {
      "cell_type": "markdown",
      "metadata": {
        "id": "DWqvhhk1tP3U"
      },
      "source": [
        "Finalmente, para se avaliar cada conjunto de *features*, utiliza-se uma função que cria um modelo com uma lista de *features* especificada e então calcula a acurácia média da classificação ao longo de um número especificado de iterações, utilizando o modelo ajustado obtido por `select_best_model!` e o conjunto de teste do *Kaggle* para validação.\n",
        "\n",
        "Calcular a acurácia média de `n_trials` execuções é necessário pois a função `select_best_model!` não é determinística, então há flutuações da acurácia."
      ]
    },
    {
      "cell_type": "code",
      "execution_count": 19,
      "metadata": {
        "colab": {
          "base_uri": "https://localhost:8080/"
        },
        "id": "hzVwVnFY1mDh",
        "outputId": "f5dcb2a0-4502-46ea-c786-2de2e2f1e026"
      },
      "outputs": [
        {
          "data": {
            "text/plain": [
              "get_average_accuracy (generic function with 1 method)"
            ]
          },
          "metadata": {},
          "output_type": "display_data"
        }
      ],
      "source": [
        "# 'train' é o conjunto original de treino, 'test' é o conjunto para validação e não utilizado nos ajustes, 'reference' contém as verdadeiras classificações dos indivíduos de 'test'\n",
        "# a lista de features a ser avaliada é especificada por 'feature_adder', enquanto é necessário passar como argumento o mesmo 'encoder' utilizado no preprocessamento de 'train'\n",
        "function get_average_accuracy(train::DataFrame, test::DataFrame, reference::DataFrame, encoder::Encoder; n_trials::Int = 20, feature_adder::Function = add_feature_list1!)\n",
        "  test = copy(test)\n",
        "  preprocess_and_transform!(test, encoder, feature_adder = feature_adder)\n",
        "  m = 0.0\n",
        "  for i in 1:n_trials\n",
        "    model = Model(select(train, Not(:Survived)))\n",
        "    select_best_model!(model, train, n_its = 10, feature_adder = feature_adder, train_test_ratio = 0.8)\n",
        "    prediction = predict(model, test)\n",
        "    m += (accuracy_score(prediction, reference) - m)/i\n",
        "  end\n",
        "  m = m*100\n",
        "  println(\"Acurácia média: $m %\")\n",
        "  return m\n",
        "end"
      ]
    },
    {
      "cell_type": "markdown",
      "metadata": {
        "id": "iSuAdx8GvfwL"
      },
      "source": [
        "A seguir, são mostradas as acurácias médias obtidas para cada lista de *features* definidas pelas funções `add_feature_listX!`."
      ]
    },
    {
      "cell_type": "code",
      "execution_count": 20,
      "metadata": {
        "id": "G4mchJDBxtzo"
      },
      "outputs": [],
      "source": [
        "test = DataFrame(CSV.File(\"test.csv\"));\n",
        "reference = select!(DataFrame(CSV.File(\"reference.csv\")), :Survived);"
      ]
    },
    {
      "cell_type": "code",
      "execution_count": 21,
      "metadata": {
        "colab": {
          "base_uri": "https://localhost:8080/"
        },
        "id": "mBLaHxk0wyKX",
        "outputId": "800697af-f42e-4341-e0a8-acfb73959513"
      },
      "outputs": [
        {
          "name": "stdout",
          "output_type": "stream",
          "text": [
            "Acurácia média: 73.92344497607655 %\n"
          ]
        }
      ],
      "source": [
        "get_average_accuracy(train, test, reference, encoder, n_trials = 30);"
      ]
    },
    {
      "cell_type": "code",
      "execution_count": 22,
      "metadata": {
        "colab": {
          "base_uri": "https://localhost:8080/"
        },
        "id": "r5ytorFz5TH6",
        "outputId": "90562b5b-bc47-4096-c5a7-2f1f83cb6a3d"
      },
      "outputs": [
        {
          "name": "stdout",
          "output_type": "stream",
          "text": [
            "Acurácia média: 75.78947368421053 %\n"
          ]
        }
      ],
      "source": [
        "get_average_accuracy(train, test, reference, encoder, n_trials = 30, feature_adder = add_feature_list2!);"
      ]
    },
    {
      "cell_type": "code",
      "execution_count": 23,
      "metadata": {
        "colab": {
          "base_uri": "https://localhost:8080/"
        },
        "id": "XgKNe5u_5WuL",
        "outputId": "3549a1d9-13a0-440e-ae45-7f2860d8797d"
      },
      "outputs": [
        {
          "name": "stdout",
          "output_type": "stream",
          "text": [
            "Acurácia média: 74.92822966507177 %\n"
          ]
        }
      ],
      "source": [
        "get_average_accuracy(train, test, reference, encoder, n_trials = 30, feature_adder = add_feature_list3!);"
      ]
    },
    {
      "cell_type": "code",
      "execution_count": 24,
      "metadata": {
        "colab": {
          "base_uri": "https://localhost:8080/"
        },
        "id": "an5qSIVYDPDp",
        "outputId": "16cfe556-8ea2-4cd5-f6a9-ed60b5c73b48"
      },
      "outputs": [
        {
          "name": "stdout",
          "output_type": "stream",
          "text": [
            "Acurácia média: 77.2328548644338 %\n"
          ]
        }
      ],
      "source": [
        "get_average_accuracy(train, test, reference, encoder, n_trials = 30, feature_adder = add_feature_list4!);"
      ]
    },
    {
      "cell_type": "code",
      "execution_count": 25,
      "metadata": {
        "colab": {
          "base_uri": "https://localhost:8080/"
        },
        "id": "QuERs4MTZ6hX",
        "outputId": "7bad227a-edeb-447e-886b-cb4a2fb9a961"
      },
      "outputs": [
        {
          "name": "stdout",
          "output_type": "stream",
          "text": [
            "Acurácia média: 73.652312599681 %\n"
          ]
        }
      ],
      "source": [
        "get_average_accuracy(train, test, reference, encoder, n_trials = 30, feature_adder = add_feature_list5!);"
      ]
    },
    {
      "cell_type": "markdown",
      "metadata": {
        "id": "OVhkVOnnwMcz"
      },
      "source": [
        "Com isso, escolhe-se a lista de *features* de maior acurácia média, a especificada por `add_feature_list4!` que adiciona features da forma $x \\mapsto \\frac{1}{(|x|+1)^k},\\;\\forall k \\in \\{1,2,3\\}$. Com base nessa lista de *features* é obtido um novo modelo ajustado, aplicando-se `select_best_model!` com um número maior de iterações para se obter um desempenho maior."
      ]
    },
    {
      "cell_type": "code",
      "execution_count": 26,
      "metadata": {
        "id": "7rWq3yGozTlX"
      },
      "outputs": [],
      "source": [
        "preprocess_and_transform!(test, encoder, feature_adder = add_feature_list4!)"
      ]
    },
    {
      "cell_type": "code",
      "execution_count": 27,
      "metadata": {
        "id": "rYbyMLVnxEri"
      },
      "outputs": [],
      "source": [
        "model = Model(select(train, Not(:Survived)))\n",
        "select_best_model!(model, train, n_its = 500, feature_adder = add_feature_list4!)"
      ]
    },
    {
      "cell_type": "code",
      "execution_count": 28,
      "metadata": {
        "colab": {
          "base_uri": "https://localhost:8080/"
        },
        "id": "jZ4VndQVybCs",
        "outputId": "9827bce6-9bfe-4e98-8b48-9fd323ab6401"
      },
      "outputs": [
        {
          "name": "stdout",
          "output_type": "stream",
          "text": [
            "Acurácia do modelo: 77.03349282296651 %\n"
          ]
        }
      ],
      "source": [
        "predictions = predict(model, test)\n",
        "acc = accuracy_score(predictions, reference)*100\n",
        "println(\"Acurácia do modelo: $acc %\")"
      ]
    },
    {
      "cell_type": "markdown",
      "metadata": {
        "id": "eTnoal7o2Hp3"
      },
      "source": [
        "Com isso, pode-se observar a matriz de confusão do modelo ajustado para se obter detalhes sobre seu desempenho.\n",
        "\n",
        "Nesse caso, a linha 1 corresponde às classificações feitas pelo modelo para os indivíduos da classe '0' (não-sobreviventes) e linha 2 à classe '1' (sobreviventes)."
      ]
    },
    {
      "cell_type": "code",
      "execution_count": 29,
      "metadata": {
        "colab": {
          "base_uri": "https://localhost:8080/"
        },
        "id": "E2Hj_IcIzAcO",
        "outputId": "34e7c1f4-ff1b-4688-dbe0-8af684266d2f"
      },
      "outputs": [
        {
          "data": {
            "text/plain": [
              "confusion_matrix (generic function with 1 method)"
            ]
          },
          "metadata": {},
          "output_type": "display_data"
        }
      ],
      "source": [
        "function confusion_matrix(predictions::DataFrame, reference::DataFrame)\n",
        "  predictions = Vector{Float64}(predictions[!, \"Survived\"])\n",
        "  reference = Vector{Float64}(reference[!, \"Survived\"])\n",
        "  survivors_predictions = predictions[reference .== 1.0]\n",
        "  non_survivors_predictions = predictions[reference .== 0.0]\n",
        "  confusion_matrix = Matrix{Int}(undef, (2, 2))\n",
        "  confusion_matrix[1, 1] = length(non_survivors_predictions[non_survivors_predictions .== 0.0])\n",
        "  confusion_matrix[1, 2] = length(non_survivors_predictions) - confusion_matrix[1, 1]\n",
        "  confusion_matrix[2, 2] = length(survivors_predictions[survivors_predictions .== 1.0])\n",
        "  confusion_matrix[2, 1] = length(survivors_predictions) - confusion_matrix[2, 2]\n",
        "  return confusion_matrix\n",
        "end"
      ]
    },
    {
      "cell_type": "code",
      "execution_count": 30,
      "metadata": {
        "colab": {
          "base_uri": "https://localhost:8080/"
        },
        "id": "hQ0nPgFZ0675",
        "outputId": "775d0b85-bc30-4857-c65c-194467398cc7"
      },
      "outputs": [
        {
          "data": {
            "text/plain": [
              "2×2 Matrix{Int64}:\n",
              " 212   48\n",
              "  48  110"
            ]
          },
          "metadata": {},
          "output_type": "display_data"
        }
      ],
      "source": [
        "conf_mat = confusion_matrix(predictions, reference)"
      ]
    },
    {
      "cell_type": "code",
      "execution_count": 31,
      "metadata": {
        "colab": {
          "base_uri": "https://localhost:8080/"
        },
        "id": "ryWPk4Zz2RLt",
        "outputId": "72739ab8-16d9-4e1c-ee60-43fa23fe32cf"
      },
      "outputs": [
        {
          "name": "stdout",
          "output_type": "stream",
          "text": [
            "Taxa de verdadeiros positivos entre os sobreviventes: 69.62025316455697 %\n",
            "Taxa de falsos positivos entre os sobreviventes: 18.461538461538463 %\n",
            "Taxa de verdadeiros positivos entre os não-sobreviventes: 81.53846153846153 %\n",
            "Taxa de falsos positivos entre os não-sobreviventes: 30.379746835443033 %\n"
          ]
        }
      ],
      "source": [
        "function get_rates(conf_mat::Matrix{Int}, i::Int)\n",
        "  @assert size(conf_mat) == (2, 2)\n",
        "  @assert 1 <= i <= 2\n",
        "  tpr = conf_mat[i, i]/(conf_mat[i, 1] + conf_mat[i, 2])\n",
        "  ffr = 1 - tpr\n",
        "  j = (3-i) % 3\n",
        "  tfr = conf_mat[j, j]/(conf_mat[j, 1] + conf_mat[j, 2])\n",
        "  fpr = 1 - tfr\n",
        "  return tpr, fpr, tfr, ffr\n",
        "end\n",
        "tpr, fpr, tfr, ffr = get_rates(conf_mat, 2)\n",
        "println(\"Taxa de verdadeiros positivos entre os sobreviventes: $(100*tpr) %\")\n",
        "println(\"Taxa de falsos positivos entre os sobreviventes: $(100*fpr) %\")\n",
        "println(\"Taxa de verdadeiros positivos entre os não-sobreviventes: $(100*tfr) %\")\n",
        "println(\"Taxa de falsos positivos entre os não-sobreviventes: $(100*ffr) %\")"
      ]
    },
    {
      "cell_type": "code",
      "execution_count": 32,
      "metadata": {
        "colab": {
          "base_uri": "https://localhost:8080/"
        },
        "id": "rFyugAID7enx",
        "outputId": "c236c656-bcfc-42e4-b721-01759d32823c"
      },
      "outputs": [
        {
          "name": "stdout",
          "output_type": "stream",
          "text": [
            "Número de sobreviventes no conjunto de treino: 342\n",
            "Número de não-sobreviventes no conjunto de treino: 549\n",
            "Diferença percentual Sobreviventes/Não-Sobreviventes: 60.526315789473685 %\n"
          ]
        }
      ],
      "source": [
        "n_surv = foldl(+ , train[!,:Survived] .== 1.0)\n",
        "n_nsurv = foldl(+ , train[!,:Survived] .== 0.0)\n",
        "println(\"Número de sobreviventes no conjunto de treino: \", n_surv)\n",
        "println(\"Número de não-sobreviventes no conjunto de treino: \", n_nsurv)\n",
        "println(\"Diferença percentual Sobreviventes/Não-Sobreviventes: $((n_nsurv-n_surv)*100/n_surv) %\")"
      ]
    },
    {
      "cell_type": "markdown",
      "metadata": {
        "id": "4FQ9PxxA7YPy"
      },
      "source": [
        "De fato, como a classe dos não-sobreviventes tem cerca de 60,5 % mais indivíduos do que a classe dos sobreviventes, há o que se chama de desbalanceamento entre elas, o que, nesse caso, resultou em um modelo com um viés para classificar como não-sobrevivente.\n",
        "\n",
        "Consequentemente, a taxa de falsos positivos nessa classe majoritária é quase o dobro da taxa de falsos positivos da classe minoritária."
      ]
    },
    {
      "cell_type": "markdown",
      "metadata": {},
      "source": [
        "Para atenuação desse viés então, realiza-se uma busca exaustiva em um intervalo para obter o valor de hiperparâmetro $\\alpha$ que maximiza a acurácia da classificação sobre o conjunto de treino."
      ]
    },
    {
      "cell_type": "code",
      "execution_count": 33,
      "metadata": {},
      "outputs": [
        {
          "data": {
            "text/plain": [
              "best_model_with_search! (generic function with 1 method)"
            ]
          },
          "metadata": {},
          "output_type": "display_data"
        }
      ],
      "source": [
        "# realiza busca em intervalo de valores em torno do valor original do hiperparametro obtido por fit!\n",
        "function fit_and_search!(model::Model, x::DataFrame, y::DataFrame)\n",
        "    fit!(model, x, y)\n",
        "    k = collect(keys(model.hyperparams))[1]\n",
        "    h0 = collect(values(model.hyperparams))[1]\n",
        "    grid = h0-0.7:0.001:h0+0.7\n",
        "    prediction = predict(model, x)\n",
        "    best_acc = accuracy_score(prediction, y)\n",
        "    best_h = h0\n",
        "    for h in grid\n",
        "        model.hyperparams = ImmutableDict(k => h);\n",
        "        prediction = predict(model, x)\n",
        "        acc = accuracy_score(prediction, y)\n",
        "        if acc > best_acc\n",
        "            best_acc = acc\n",
        "            best_h = h\n",
        "        end\n",
        "    end\n",
        "    model.hyperparams = ImmutableDict(k => h0);\n",
        "end\n",
        "\n",
        "# similar a select_best_model! mas com a busca pelo valor ótimo do hiperparâmetro no fit sobre o melhor conjunto de treino\n",
        "function best_model_with_search!(model::Model, train::DataFrame; train_test_ratio::Float64 = 0.8, feature_adder::Function = add_feature_list1!, n_its::Int = 50)\n",
        "    xtrain, ytrain, xtest, ytest = train_test_split(train, train_test_ratio)\n",
        "    feature_adder(model, xtrain)\n",
        "    transform_fit!(model, xtrain, ytrain)\n",
        "    pred = transform_predict!(model, xtest)\n",
        "    best_x = xtrain\n",
        "    best_y = ytrain\n",
        "    best_acc = accuracy_score(pred, ytest)\n",
        "    for i in 1:n_its\n",
        "        xtrain, ytrain, xtest, ytest = train_test_split(train, train_test_ratio)\n",
        "        transform_fit!(model, xtrain, ytrain)\n",
        "        pred = transform_predict!(model, xtest)\n",
        "        acc = accuracy_score(pred, ytest)\n",
        "        if acc > best_acc\n",
        "        best_acc = acc\n",
        "        best_x = xtrain\n",
        "        best_y = ytrain\n",
        "        end\n",
        "    end\n",
        "    fit_and_search!(model, best_x, best_y)\n",
        "end"
      ]
    },
    {
      "cell_type": "code",
      "execution_count": 34,
      "metadata": {},
      "outputs": [],
      "source": [
        "model_no_search = Model(select(train, Not(:Survived)));\n",
        "model_search = Model(select(train, Not(:Survived)));"
      ]
    },
    {
      "cell_type": "code",
      "execution_count": 35,
      "metadata": {},
      "outputs": [
        {
          "name": "stdout",
          "output_type": "stream",
          "text": [
            "Valor do hiperparâmetro α sem busca: 0.4270472544065962\n"
          ]
        }
      ],
      "source": [
        "select_best_model!(model_no_search, train, n_its = 800, feature_adder = add_feature_list4!)\n",
        "println(\"Valor do hiperparâmetro α sem busca: $(model_no_search.hyperparams[:α])\")"
      ]
    },
    {
      "cell_type": "code",
      "execution_count": 36,
      "metadata": {},
      "outputs": [
        {
          "name": "stdout",
          "output_type": "stream",
          "text": [
            "Valor do hiperparâmetro α com busca: 0.43647689411346924\n"
          ]
        }
      ],
      "source": [
        "best_model_with_search!(model_search, train, n_its = 800, feature_adder = add_feature_list4!)\n",
        "println(\"Valor do hiperparâmetro α com busca: $(model_search.hyperparams[:α])\")"
      ]
    },
    {
      "cell_type": "markdown",
      "metadata": {},
      "source": [
        "A acurácia obtida com a busca no entanto é similar à obtida sem a busca."
      ]
    },
    {
      "cell_type": "code",
      "execution_count": 37,
      "metadata": {},
      "outputs": [
        {
          "name": "stdout",
          "output_type": "stream",
          "text": [
            "Acurácia do modelo sem busca: 77.75119617224881 %\n",
            "Acurácia do modelo com busca: 77.75119617224881 %\n"
          ]
        }
      ],
      "source": [
        "predictions_no_search = predict(model_no_search, test)\n",
        "predictions_search = predict(model_search, test)\n",
        "acc_no_search = accuracy_score(predictions_no_search, reference)*100\n",
        "acc_search = accuracy_score(predictions_search, reference)*100\n",
        "println(\"Acurácia do modelo sem busca: $acc_no_search %\")\n",
        "println(\"Acurácia do modelo com busca: $acc_search %\")"
      ]
    },
    {
      "cell_type": "markdown",
      "metadata": {},
      "source": [
        "Assim como as taxas de verdadeiros e falsos positivos."
      ]
    },
    {
      "cell_type": "code",
      "execution_count": 38,
      "metadata": {},
      "outputs": [
        {
          "data": {
            "text/plain": [
              "2×2 Matrix{Int64}:\n",
              " 216   44\n",
              "  49  109"
            ]
          },
          "metadata": {},
          "output_type": "display_data"
        }
      ],
      "source": [
        "conf_mat_search = confusion_matrix(predictions_search, reference)"
      ]
    },
    {
      "cell_type": "code",
      "execution_count": 39,
      "metadata": {},
      "outputs": [
        {
          "name": "stdout",
          "output_type": "stream",
          "text": [
            "Taxa de verdadeiros positivos entre os sobreviventes: 68.9873417721519 %\n",
            "Taxa de falsos positivos entre os sobreviventes: 16.92307692307692 %\n",
            "Taxa de verdadeiros positivos entre os não-sobreviventes: 83.07692307692308 %\n",
            "Taxa de falsos positivos entre os não-sobreviventes: 31.0126582278481 %\n"
          ]
        }
      ],
      "source": [
        "tpr, fpr, tfr, ffr = get_rates(conf_mat_search, 2)\n",
        "println(\"Taxa de verdadeiros positivos entre os sobreviventes: $(100*tpr) %\")\n",
        "println(\"Taxa de falsos positivos entre os sobreviventes: $(100*fpr) %\")\n",
        "println(\"Taxa de verdadeiros positivos entre os não-sobreviventes: $(100*tfr) %\")\n",
        "println(\"Taxa de falsos positivos entre os não-sobreviventes: $(100*ffr) %\")"
      ]
    },
    {
      "cell_type": "markdown",
      "metadata": {},
      "source": [
        "Outra técnica para lidar com o desbalanceamento entre amostras de diferentes classe é a subamostragem da classe majoritária."
      ]
    },
    {
      "cell_type": "code",
      "execution_count": 40,
      "metadata": {},
      "outputs": [
        {
          "data": {
            "text/plain": [
              "random_subsample (generic function with 1 method)"
            ]
          },
          "metadata": {},
          "output_type": "display_data"
        }
      ],
      "source": [
        "# retira um sobconjunto aleatório dos dados tal que os números de indivíduos em cada classe são iguais\n",
        "function random_subsample(data::DataFrame, y_col::DataFrame)\n",
        "  cl1_idx = Vector{Bool}((y_col .== 1.0)[!,1])\n",
        "  cl0_idx = .! cl1_idx\n",
        "  cl1_len = foldl(+, cl1_idx)\n",
        "  cl0_len = foldl(+, cl0_idx)\n",
        "  new_len = minimum([cl1_len, cl0_len])\n",
        "  cl1_new = shuffle!(collect(1:cl1_len))[1:new_len]\n",
        "  cl0_new = shuffle!(collect(1:cl0_len))[1:new_len]\n",
        "  subset_idx = [cl1_new; cl0_new]\n",
        "  data_new = data[subset_idx,:]\n",
        "  y_col_new = y_col[subset_idx,:]\n",
        "  return hcat(data_new, y_col_new)\n",
        "end"
      ]
    },
    {
      "cell_type": "code",
      "execution_count": 41,
      "metadata": {},
      "outputs": [],
      "source": [
        "x = select(train, Not(:Survived))\n",
        "y = select(train, :Survived)\n",
        "undersampled_train = random_subsample(x, y);"
      ]
    },
    {
      "cell_type": "code",
      "execution_count": 42,
      "metadata": {},
      "outputs": [
        {
          "data": {
            "text/plain": [
              "ImmutableDict{Symbol, Float64} with 1 entry:\n",
              "  :α => 0.450491"
            ]
          },
          "metadata": {},
          "output_type": "display_data"
        }
      ],
      "source": [
        "model = Model(x)\n",
        "best_model_with_search!(model, undersampled_train, n_its = 800, feature_adder = add_feature_list4!, train_test_ratio = 0.85)"
      ]
    },
    {
      "cell_type": "markdown",
      "metadata": {},
      "source": [
        "No entanto, a aplicação dessa técnica aqui se mostrou pouco efetiva, causando um modelo com acurácia similar ou menor quando ajustado ao conjunto de treino subamostrado.\n",
        "A ligeira diminuição da acurácia observada em parte das execuções pode ser atribuída à redução da informação relevante no conjunto subamostrado aleatóriamente, que não é compensada por qualquer redução significativa do viés do modelo, que mantém taxas similares de falsos positivos."
      ]
    },
    {
      "cell_type": "code",
      "execution_count": 43,
      "metadata": {},
      "outputs": [
        {
          "name": "stdout",
          "output_type": "stream",
          "text": [
            "Acurácia do modelo: 77.99043062200957 %\n"
          ]
        }
      ],
      "source": [
        "predictions = predict(model, test)\n",
        "acc = accuracy_score(predictions, reference)*100\n",
        "println(\"Acurácia do modelo: $acc %\")"
      ]
    },
    {
      "cell_type": "code",
      "execution_count": 44,
      "metadata": {},
      "outputs": [
        {
          "data": {
            "text/plain": [
              "2×2 Matrix{Int64}:\n",
              " 218   42\n",
              "  50  108"
            ]
          },
          "metadata": {},
          "output_type": "display_data"
        }
      ],
      "source": [
        "conf_mat = confusion_matrix(predictions, reference)"
      ]
    },
    {
      "cell_type": "code",
      "execution_count": 45,
      "metadata": {},
      "outputs": [
        {
          "name": "stdout",
          "output_type": "stream",
          "text": [
            "Taxa de verdadeiros positivos entre os sobreviventes: 68.35443037974683 %\n",
            "Taxa de falsos positivos entre os sobreviventes: 16.153846153846153 %\n",
            "Taxa de verdadeiros positivos entre os não-sobreviventes: 83.84615384615385 %\n",
            "Taxa de falsos positivos entre os não-sobreviventes: 31.645569620253166 %\n"
          ]
        }
      ],
      "source": [
        "tpr, fpr, tfr, ffr = get_rates(conf_mat, 2)\n",
        "println(\"Taxa de verdadeiros positivos entre os sobreviventes: $(100*tpr) %\")\n",
        "println(\"Taxa de falsos positivos entre os sobreviventes: $(100*fpr) %\")\n",
        "println(\"Taxa de verdadeiros positivos entre os não-sobreviventes: $(100*tfr) %\")\n",
        "println(\"Taxa de falsos positivos entre os não-sobreviventes: $(100*ffr) %\")"
      ]
    },
    {
      "cell_type": "markdown",
      "metadata": {},
      "source": [
        "Finalmente, realiza-se o ajuste com a implementação da biblioteca `LsqFit.jl` em vez do MMQ implementado, mas utilizando a mesma *feature engineering* escolhida como a melhor."
      ]
    },
    {
      "cell_type": "code",
      "execution_count": 46,
      "metadata": {},
      "outputs": [],
      "source": [
        "transform!(model, x);"
      ]
    },
    {
      "cell_type": "code",
      "execution_count": 47,
      "metadata": {},
      "outputs": [],
      "source": [
        "using LsqFit\n",
        "using LinearAlgebra: norm2\n",
        "\n",
        "function lin_m(x,p)\n",
        "  result = fill(0.0, size(x)[1])\n",
        "  for i in 1:size(x)[2]\n",
        "    result += p[i]*(x[:,i])\n",
        "  end\n",
        "  return result\n",
        "end\n",
        "p0 = fill(0.0, size(x)[2])\n",
        "fit = curve_fit(lin_m, Matrix(x), Vector{Float64}(y[:,1]), p0);"
      ]
    },
    {
      "cell_type": "code",
      "execution_count": 48,
      "metadata": {},
      "outputs": [
        {
          "data": {
            "text/plain": [
              "alpha_from_predictor (generic function with 1 method)"
            ]
          },
          "metadata": {},
          "output_type": "display_data"
        }
      ],
      "source": [
        "function alpha_from_predictor(params::Vector{Float64}, x::Matrix{Float64}, y::Vector{Int64})\n",
        "    survived = y .== 1\n",
        "    prediction = (x*params)\n",
        "    any_survivors = foldl(|, survived)\n",
        "    any_non_survivors = !foldl(*, survived)\n",
        "    alpha =  mean([any_survivors ? mean(prediction[survived]) : 0.5,\n",
        "            any_non_survivors ? mean(prediction[.!survived]) : 0.5])\n",
        "    return alpha\n",
        "  end"
      ]
    },
    {
      "cell_type": "code",
      "execution_count": 49,
      "metadata": {},
      "outputs": [
        {
          "data": {
            "text/plain": [
              "0.4327898014355756"
            ]
          },
          "metadata": {},
          "output_type": "display_data"
        }
      ],
      "source": [
        "alpha_lib = alpha_from_predictor(fit.param, Matrix(x), Vector(y[:,1]))"
      ]
    },
    {
      "cell_type": "code",
      "execution_count": 50,
      "metadata": {},
      "outputs": [
        {
          "data": {
            "text/plain": [
              "#51 (generic function with 1 method)"
            ]
          },
          "metadata": {},
          "output_type": "display_data"
        }
      ],
      "source": [
        "classifier = x -> simple_classifier(x, α = alpha_lib)"
      ]
    },
    {
      "cell_type": "code",
      "execution_count": 51,
      "metadata": {},
      "outputs": [
        {
          "name": "stdout",
          "output_type": "stream",
          "text": [
            "Acurácia do modelo obtido com LsqFit.jl: 0.7583732057416268 %\n"
          ]
        }
      ],
      "source": [
        "predictions_lib = DataFrame(Survived = classifier.(Matrix(test)*fit.param))\n",
        "acc_lib = accuracy_score(predictions_lib, reference)\n",
        "println(\"Acurácia do modelo obtido com LsqFit.jl: $acc_lib %\")"
      ]
    },
    {
      "cell_type": "markdown",
      "metadata": {},
      "source": [
        "Pode ser observado que tanto acurácia quanto valor do hiperparâmetro $\\alpha$ são similares aos obtidos com a implementação própria."
      ]
    }
  ],
  "metadata": {
    "colab": {
      "gpuType": "T4",
      "provenance": []
    },
    "kernelspec": {
      "display_name": "Julia 1.9.2",
      "language": "julia",
      "name": "julia-1.9"
    },
    "language_info": {
      "file_extension": ".jl",
      "mimetype": "application/julia",
      "name": "julia",
      "version": "1.9.2"
    }
  },
  "nbformat": 4,
  "nbformat_minor": 0
}
